{
 "cells": [
  {
   "cell_type": "markdown",
   "metadata": {},
   "source": [
    "# Processo Seletivo: Cientista de Dados Júnior do Clube da Aposta"
   ]
  },
  {
   "cell_type": "code",
   "execution_count": 1,
   "metadata": {},
   "outputs": [],
   "source": [
    "import numpy as np\n",
    "import pandas as pd\n",
    "import matplotlib.pyplot as plt\n",
    "\n",
    "%matplotlib inline\n",
    "\n",
    "# Pre-processamento dos dados\n",
    "from sklearn.preprocessing import LabelEncoder\n",
    "\n",
    "# Modelo\n",
    "from sklearn.svm import SVC\n",
    "\n",
    "# Metricas\n",
    "from sklearn.metrics import f1_score, make_scorer\n",
    "\n",
    "f1_scorer = make_scorer(f1_score, average='weighted')"
   ]
  },
  {
   "cell_type": "code",
   "execution_count": 2,
   "metadata": {},
   "outputs": [
    {
     "data": {
      "text/html": [
       "<div>\n",
       "<style scoped>\n",
       "    .dataframe tbody tr th:only-of-type {\n",
       "        vertical-align: middle;\n",
       "    }\n",
       "\n",
       "    .dataframe tbody tr th {\n",
       "        vertical-align: top;\n",
       "    }\n",
       "\n",
       "    .dataframe thead th {\n",
       "        text-align: right;\n",
       "    }\n",
       "</style>\n",
       "<table border=\"1\" class=\"dataframe\">\n",
       "  <thead>\n",
       "    <tr style=\"text-align: right;\">\n",
       "      <th></th>\n",
       "      <th>home_name</th>\n",
       "      <th>away_name</th>\n",
       "      <th>home_score</th>\n",
       "      <th>away_score</th>\n",
       "      <th>final_result</th>\n",
       "      <th>time</th>\n",
       "      <th>home_pos</th>\n",
       "      <th>away_pos</th>\n",
       "      <th>round</th>\n",
       "      <th>home_last5all_home</th>\n",
       "      <th>...</th>\n",
       "      <th>fifa_home_mid</th>\n",
       "      <th>fifa_home_def</th>\n",
       "      <th>fifa_away_ova</th>\n",
       "      <th>fifa_away_att</th>\n",
       "      <th>fifa_away_mid</th>\n",
       "      <th>fifa_away_def</th>\n",
       "      <th>elo_home_score</th>\n",
       "      <th>elo_away_score</th>\n",
       "      <th>tfm_value_home</th>\n",
       "      <th>tfm_value_away</th>\n",
       "    </tr>\n",
       "  </thead>\n",
       "  <tbody>\n",
       "    <tr>\n",
       "      <th>0</th>\n",
       "      <td>FC Porto</td>\n",
       "      <td>Nacional</td>\n",
       "      <td>3</td>\n",
       "      <td>1</td>\n",
       "      <td>Mandante</td>\n",
       "      <td>1546895700</td>\n",
       "      <td>1</td>\n",
       "      <td>11</td>\n",
       "      <td>16</td>\n",
       "      <td>9</td>\n",
       "      <td>...</td>\n",
       "      <td>81</td>\n",
       "      <td>80</td>\n",
       "      <td>70</td>\n",
       "      <td>70</td>\n",
       "      <td>70</td>\n",
       "      <td>69</td>\n",
       "      <td>1813.906738</td>\n",
       "      <td>1392.986084</td>\n",
       "      <td>2.779800e+08</td>\n",
       "      <td>9450000.0</td>\n",
       "    </tr>\n",
       "    <tr>\n",
       "      <th>1</th>\n",
       "      <td>Tenerife</td>\n",
       "      <td>Elche</td>\n",
       "      <td>2</td>\n",
       "      <td>1</td>\n",
       "      <td>Mandante</td>\n",
       "      <td>1546632000</td>\n",
       "      <td>18</td>\n",
       "      <td>15</td>\n",
       "      <td>20</td>\n",
       "      <td>2</td>\n",
       "      <td>...</td>\n",
       "      <td>71</td>\n",
       "      <td>69</td>\n",
       "      <td>67</td>\n",
       "      <td>69</td>\n",
       "      <td>67</td>\n",
       "      <td>67</td>\n",
       "      <td>1513.179932</td>\n",
       "      <td>1475.512939</td>\n",
       "      <td>1.090000e+07</td>\n",
       "      <td>9600000.0</td>\n",
       "    </tr>\n",
       "    <tr>\n",
       "      <th>10</th>\n",
       "      <td>Man City</td>\n",
       "      <td>Everton</td>\n",
       "      <td>3</td>\n",
       "      <td>1</td>\n",
       "      <td>Mandante</td>\n",
       "      <td>1544877000</td>\n",
       "      <td>2</td>\n",
       "      <td>7</td>\n",
       "      <td>17</td>\n",
       "      <td>16</td>\n",
       "      <td>...</td>\n",
       "      <td>88</td>\n",
       "      <td>83</td>\n",
       "      <td>79</td>\n",
       "      <td>79</td>\n",
       "      <td>80</td>\n",
       "      <td>79</td>\n",
       "      <td>1986.672974</td>\n",
       "      <td>1699.472778</td>\n",
       "      <td>1.090000e+09</td>\n",
       "      <td>426000000.0</td>\n",
       "    </tr>\n",
       "    <tr>\n",
       "      <th>100</th>\n",
       "      <td>Braga</td>\n",
       "      <td>FC Porto</td>\n",
       "      <td>0</td>\n",
       "      <td>1</td>\n",
       "      <td>Visitante</td>\n",
       "      <td>1503861300</td>\n",
       "      <td>6</td>\n",
       "      <td>3</td>\n",
       "      <td>4</td>\n",
       "      <td>3</td>\n",
       "      <td>...</td>\n",
       "      <td>75</td>\n",
       "      <td>74</td>\n",
       "      <td>79</td>\n",
       "      <td>78</td>\n",
       "      <td>79</td>\n",
       "      <td>79</td>\n",
       "      <td>1562.021240</td>\n",
       "      <td>1745.115723</td>\n",
       "      <td>5.740000e+07</td>\n",
       "      <td>177650000.0</td>\n",
       "    </tr>\n",
       "    <tr>\n",
       "      <th>1000</th>\n",
       "      <td>Red Star FC 93</td>\n",
       "      <td>Strasbourg</td>\n",
       "      <td>1</td>\n",
       "      <td>1</td>\n",
       "      <td>Empate</td>\n",
       "      <td>1487358000</td>\n",
       "      <td>16</td>\n",
       "      <td>6</td>\n",
       "      <td>26</td>\n",
       "      <td>0</td>\n",
       "      <td>...</td>\n",
       "      <td>66</td>\n",
       "      <td>67</td>\n",
       "      <td>66</td>\n",
       "      <td>68</td>\n",
       "      <td>67</td>\n",
       "      <td>66</td>\n",
       "      <td>1407.163086</td>\n",
       "      <td>1422.037231</td>\n",
       "      <td>1.210000e+07</td>\n",
       "      <td>9850000.0</td>\n",
       "    </tr>\n",
       "  </tbody>\n",
       "</table>\n",
       "<p>5 rows × 30 columns</p>\n",
       "</div>"
      ],
      "text/plain": [
       "           home_name   away_name  home_score  away_score final_result  \\\n",
       "0           FC Porto    Nacional           3           1     Mandante   \n",
       "1           Tenerife       Elche           2           1     Mandante   \n",
       "10          Man City     Everton           3           1     Mandante   \n",
       "100            Braga    FC Porto           0           1    Visitante   \n",
       "1000  Red Star FC 93  Strasbourg           1           1       Empate   \n",
       "\n",
       "            time  home_pos  away_pos  round  home_last5all_home  \\\n",
       "0     1546895700         1        11     16                   9   \n",
       "1     1546632000        18        15     20                   2   \n",
       "10    1544877000         2         7     17                  16   \n",
       "100   1503861300         6         3      4                   3   \n",
       "1000  1487358000        16         6     26                   0   \n",
       "\n",
       "           ...        fifa_home_mid  fifa_home_def  fifa_away_ova  \\\n",
       "0          ...                   81             80             70   \n",
       "1          ...                   71             69             67   \n",
       "10         ...                   88             83             79   \n",
       "100        ...                   75             74             79   \n",
       "1000       ...                   66             67             66   \n",
       "\n",
       "      fifa_away_att  fifa_away_mid  fifa_away_def  elo_home_score  \\\n",
       "0                70             70             69     1813.906738   \n",
       "1                69             67             67     1513.179932   \n",
       "10               79             80             79     1986.672974   \n",
       "100              78             79             79     1562.021240   \n",
       "1000             68             67             66     1407.163086   \n",
       "\n",
       "      elo_away_score  tfm_value_home  tfm_value_away  \n",
       "0        1392.986084    2.779800e+08       9450000.0  \n",
       "1        1475.512939    1.090000e+07       9600000.0  \n",
       "10       1699.472778    1.090000e+09     426000000.0  \n",
       "100      1745.115723    5.740000e+07     177650000.0  \n",
       "1000     1422.037231    1.210000e+07       9850000.0  \n",
       "\n",
       "[5 rows x 30 columns]"
      ]
     },
     "execution_count": 2,
     "metadata": {},
     "output_type": "execute_result"
    }
   ],
   "source": [
    "df = pd.read_json('base-dados-clube-da-aposta.json')\n",
    "\n",
    "# Sugestão de ordens para as colunas\n",
    "ordens_coluna = ['home_name', 'away_name', 'home_score', 'away_score', 'final_result', 'time', \n",
    "                 'home_pos', 'away_pos', 'round', 'home_last5all_home', 'home_last5all_home_win', \n",
    "                 'home_last5all_home_draw', 'home_last5all_home_lose', 'away_last5all_away', \n",
    "                 'away_last5all_away_win', 'away_last5all_away_draw', 'away_last5all_away_lose', \n",
    "                 'last5all_home_away_dif', 'fifa_home_ova', 'fifa_home_att', 'fifa_home_mid', \n",
    "                 'fifa_home_def', 'fifa_away_ova', 'fifa_away_att', 'fifa_away_mid', 'fifa_away_def', \n",
    "                 'elo_home_score', 'elo_away_score', 'tfm_value_home', 'tfm_value_away']\n",
    "\n",
    "df = df[ordens_coluna]\n",
    "\n",
    "# Modificando os nomes dos resultados finais\n",
    "fr = dict(H='Mandante', D='Empate', A='Visitante')\n",
    "df['final_result'] = df['final_result'].apply(lambda x: fr[x])\n",
    "\n",
    "df.head()"
   ]
  },
  {
   "cell_type": "markdown",
   "metadata": {},
   "source": [
    "## Porcentagem de cada target"
   ]
  },
  {
   "cell_type": "code",
   "execution_count": 3,
   "metadata": {},
   "outputs": [
    {
     "data": {
      "text/plain": [
       "Mandante     44.66\n",
       "Visitante    29.05\n",
       "Empate       26.28\n",
       "Name: final_result, dtype: float64"
      ]
     },
     "execution_count": 3,
     "metadata": {},
     "output_type": "execute_result"
    }
   ],
   "source": [
    "round(df['final_result'].value_counts()/df.shape[0] * 100, 2)"
   ]
  },
  {
   "cell_type": "markdown",
   "metadata": {},
   "source": [
    "## Criando um label encoder nos nomes dos club's"
   ]
  },
  {
   "cell_type": "code",
   "execution_count": 4,
   "metadata": {},
   "outputs": [],
   "source": [
    "name_club = set(df['home_name'])\n",
    "name_club.update(set(df['away_name']))\n",
    "\n",
    "le_clubs = LabelEncoder()\n",
    "le_clubs.fit(list(name_club))\n",
    "\n",
    "# Subscrevendo features\n",
    "df['home_name'] = df['home_name'].apply(lambda x: le_clubs.transform([x])[0])\n",
    "df['away_name'] = df['away_name'].apply(lambda x: le_clubs.transform([x])[0])"
   ]
  },
  {
   "cell_type": "markdown",
   "metadata": {},
   "source": [
    "## Convertendo os times de formato unix para ano, mês, dia da semana e hora"
   ]
  },
  {
   "cell_type": "code",
   "execution_count": 5,
   "metadata": {},
   "outputs": [
    {
     "name": "stdout",
     "output_type": "stream",
     "text": [
      "time.struct_time(tm_year=2019, tm_mon=1, tm_mday=7, tm_hour=21, tm_min=15, tm_sec=0, tm_wday=0, tm_yday=7, tm_isdst=0)\n",
      "\n",
      " time.struct_time(tm_year=2019, tm_mon=1, tm_mday=4, tm_hour=20, tm_min=0, tm_sec=0, tm_wday=4, tm_yday=4, tm_isdst=0)\n"
     ]
    }
   ],
   "source": [
    "from time import gmtime\n",
    "\n",
    "time_ex = gmtime(1546895700)\n",
    "print(time_ex)\n",
    "time_ex = gmtime(1546632000)\n",
    "print('\\n',time_ex)"
   ]
  },
  {
   "cell_type": "code",
   "execution_count": 6,
   "metadata": {},
   "outputs": [],
   "source": [
    "# Criando coluna com o ano da partida\n",
    "df['year'] = df['time'].apply(lambda x: gmtime(x).tm_year)\n",
    "# Criando coluna com o mês da partida\n",
    "df['mon'] = df['time'].apply(lambda x: gmtime(x).tm_mon)\n",
    "# Criando coluna com a hora da partida\n",
    "df['hour'] = df['time'].apply(lambda x: gmtime(x).tm_hour)\n",
    "# Criando coluna com o dia da partida\n",
    "df['day'] = df['time'].apply(lambda x: gmtime(x).tm_wday)\n",
    "\n",
    "# Excluindo a coluna time\n",
    "df.drop(labels=['time'], axis=1, inplace=True)"
   ]
  },
  {
   "cell_type": "markdown",
   "metadata": {},
   "source": [
    "## Construindo um label encoder nos targetes"
   ]
  },
  {
   "cell_type": "code",
   "execution_count": 7,
   "metadata": {},
   "outputs": [],
   "source": [
    "target = df['final_result']\n",
    "\n",
    "le = LabelEncoder()\n",
    "le.fit(target)\n",
    "\n",
    "y = le.transform(target)\n",
    "\n",
    "# Encluindo as colunas do dataframe -> 'home_score', 'away_score','final_result'\n",
    "df.drop(labels=['home_score', 'away_score','final_result'], axis=1, inplace=True)"
   ]
  },
  {
   "cell_type": "markdown",
   "metadata": {},
   "source": [
    "## Pré-processando com a função  `RobustScaler`"
   ]
  },
  {
   "cell_type": "code",
   "execution_count": 8,
   "metadata": {},
   "outputs": [],
   "source": [
    "from sklearn.preprocessing import RobustScaler\n",
    "\n",
    "scaler = RobustScaler()\n",
    "X = scaler.fit_transform(df.values)"
   ]
  },
  {
   "cell_type": "markdown",
   "metadata": {},
   "source": [
    "## Separando um conjunto de dados de treino e teste"
   ]
  },
  {
   "cell_type": "code",
   "execution_count": 9,
   "metadata": {},
   "outputs": [],
   "source": [
    "from sklearn.model_selection import train_test_split\n",
    "\n",
    "X_train, X_test, y_train, y_test = train_test_split(X, y, random_state=42)"
   ]
  },
  {
   "cell_type": "markdown",
   "metadata": {},
   "source": [
    "## Criando o modelo"
   ]
  },
  {
   "cell_type": "code",
   "execution_count": 10,
   "metadata": {},
   "outputs": [
    {
     "name": "stdout",
     "output_type": "stream",
     "text": [
      "Dados de Treino:  0.53\n",
      "Dados de Teste:  0.47\n"
     ]
    }
   ],
   "source": [
    "model = SVC(kernel='rbf', gamma='auto', class_weight='balanced')\n",
    "model.fit(X_train, y_train)\n",
    "\n",
    "print('Dados de Treino: ', round(f1_score(y_train, model.predict(X_train), average='weighted'), 2))\n",
    "print('Dados de Teste: ', round(f1_score(y_test, model.predict(X_test), average='weighted'), 2))"
   ]
  },
  {
   "cell_type": "markdown",
   "metadata": {},
   "source": [
    "## Cross Validation Score"
   ]
  },
  {
   "cell_type": "code",
   "execution_count": 11,
   "metadata": {},
   "outputs": [
    {
     "name": "stdout",
     "output_type": "stream",
     "text": [
      "Modelo: SVC(kernel='rbf', gamma='auto', class_weight='balanced')\n",
      "Média:  0.46\n",
      "Desvio padrão:  0.01\n"
     ]
    }
   ],
   "source": [
    "from sklearn.model_selection import cross_val_score\n",
    "\n",
    "all_accuracies = cross_val_score(estimator=SVC(kernel='rbf', gamma='auto', \n",
    "                                               class_weight='balanced', random_state=42\n",
    "                                              ), \n",
    "                                 X=X_train, \n",
    "                                 y=y_train, \n",
    "                                 cv=5, \n",
    "                                 scoring=f1_scorer\n",
    "                                )\n",
    "print(\"Modelo: SVC(kernel='rbf', gamma='auto', class_weight='balanced')\")\n",
    "print('Média: ', round(all_accuracies.mean(), 2)) \n",
    "print( 'Desvio padrão: ',round(all_accuracies.std(), 2))"
   ]
  },
  {
   "cell_type": "markdown",
   "metadata": {},
   "source": [
    "## Matriz de confusão"
   ]
  },
  {
   "cell_type": "code",
   "execution_count": 12,
   "metadata": {},
   "outputs": [],
   "source": [
    "import itertools\n",
    "from sklearn.metrics import confusion_matrix, classification_report\n",
    "\n",
    "def plot_confusion_matrix(y_true, y_pred, classes=le.classes_,\n",
    "                          title='Matriz de confusão',\n",
    "                          cmap=plt.cm.Blues):\n",
    "    cm = confusion_matrix(y_true, y_pred)\n",
    "    fig = plt.figure(figsize=(8,6))\n",
    "    plt.imshow(cm, interpolation='nearest', cmap=cmap)\n",
    "    plt.title(title)\n",
    "    plt.colorbar()\n",
    "    tick_marks = np.arange(len(classes))\n",
    "    plt.xticks(tick_marks, classes, rotation=45)\n",
    "    plt.yticks(tick_marks, classes)\n",
    "\n",
    "    thresh = cm.max() / 2.\n",
    "    for i, j in itertools.product(range(cm.shape[0]), range(cm.shape[1])):\n",
    "        plt.text(j, i, format(cm[i, j], 'd'),\n",
    "                 horizontalalignment=\"center\",\n",
    "                 color=\"white\" if cm[i, j] > thresh else \"black\")\n",
    "\n",
    "    plt.ylabel('True label')\n",
    "    plt.xlabel('Predicted label')\n",
    "    plt.tight_layout()\n",
    "    \n",
    "    print(classification_report(y_true, y_pred, target_names=list(classes)))\n",
    "    plt.show()"
   ]
  },
  {
   "cell_type": "code",
   "execution_count": 13,
   "metadata": {
    "scrolled": false
   },
   "outputs": [
    {
     "name": "stdout",
     "output_type": "stream",
     "text": [
      "              precision    recall  f1-score   support\n",
      "\n",
      "      Empate       0.31      0.44      0.37       355\n",
      "    Mandante       0.60      0.48      0.53       556\n",
      "   Visitante       0.49      0.45      0.47       380\n",
      "\n",
      "   micro avg       0.46      0.46      0.46      1291\n",
      "   macro avg       0.47      0.46      0.45      1291\n",
      "weighted avg       0.49      0.46      0.47      1291\n",
      "\n"
     ]
    },
    {
     "data": {
      "image/png": "[encoded data removed]",
      "text/plain": [
       "<Figure size 576x432 with 2 Axes>"
      ]
     },
     "metadata": {
      "needs_background": "light"
     },
     "output_type": "display_data"
    }
   ],
   "source": [
    "model = SVC(kernel='rbf', gamma='auto', class_weight='balanced', random_state=42)\n",
    "model.fit(X_train, y_train)\n",
    "y_pred = model.predict(X_test)\n",
    "plot_confusion_matrix(y_test, y_pred)"
   ]
  },
  {
   "cell_type": "markdown",
   "metadata": {},
   "source": [
    "## RandomizedSearchCV\n",
    "\n",
    "Função para determinar hiper parâmetros"
   ]
  },
  {
   "cell_type": "code",
   "execution_count": 14,
   "metadata": {},
   "outputs": [
    {
     "name": "stdout",
     "output_type": "stream",
     "text": [
      "Best Score ->  0.4737635835907182\n",
      "Best Params ->  {'random_state': 17, 'kernel': 'rbf', 'gamma': 0.001, 'class_weight': 'balanced', 'C': 10}\n"
     ]
    }
   ],
   "source": [
    "from sklearn.model_selection import RandomizedSearchCV\n",
    "\n",
    "tuned_parameters = {'kernel': ['rbf'], 'gamma': [1e-3, 1e-4, 1e-5],\n",
    "                 'C': [0.1, 1, 10, 50, 100, 500, 1000, 5000], 'class_weight':['balanced'],\n",
    "                   'random_state':np.arange(0,50,1)}\n",
    "\n",
    "modelSearchCV = RandomizedSearchCV(estimator=SVC(), \n",
    "                                 param_distributions=tuned_parameters,\n",
    "                                 scoring=f1_scorer,\n",
    "                                 cv=5,\n",
    "                                 n_jobs=-1)\n",
    "\n",
    "modelSearchCV.fit(X_train, y_train)\n",
    "\n",
    "print('Best Score -> ', modelSearchCV.best_score_)\n",
    "print('Best Params -> ', modelSearchCV.best_params_ )"
   ]
  },
  {
   "cell_type": "code",
   "execution_count": 15,
   "metadata": {
    "scrolled": false
   },
   "outputs": [
    {
     "name": "stdout",
     "output_type": "stream",
     "text": [
      "              precision    recall  f1-score   support\n",
      "\n",
      "      Empate       0.31      0.46      0.37       355\n",
      "    Mandante       0.60      0.47      0.53       556\n",
      "   Visitante       0.49      0.43      0.46       380\n",
      "\n",
      "   micro avg       0.46      0.46      0.46      1291\n",
      "   macro avg       0.47      0.45      0.45      1291\n",
      "weighted avg       0.49      0.46      0.47      1291\n",
      "\n"
     ]
    },
    {
     "data": {
      "image/png": "[encoded data removed]",
      "text/plain": [
       "<Figure size 576x432 with 2 Axes>"
      ]
     },
     "metadata": {
      "needs_background": "light"
     },
     "output_type": "display_data"
    }
   ],
   "source": [
    "y_pred = modelSearchCV.predict(X_test)\n",
    "plot_confusion_matrix(y_test, y_pred)"
   ]
  },
  {
   "cell_type": "code",
   "execution_count": null,
   "metadata": {},
   "outputs": [],
   "source": []
  }
 ],
 "metadata": {
  "kernelspec": {
   "display_name": "Python 3",
   "language": "python",
   "name": "python3"
  },
  "language_info": {
   "codemirror_mode": {
    "name": "ipython",
    "version": 3
   },
   "file_extension": ".py",
   "mimetype": "text/x-python",
   "name": "python",
   "nbconvert_exporter": "python",
   "pygments_lexer": "ipython3",
   "version": "3.6.6"
  }
 },
 "nbformat": 4,
 "nbformat_minor": 2
}
